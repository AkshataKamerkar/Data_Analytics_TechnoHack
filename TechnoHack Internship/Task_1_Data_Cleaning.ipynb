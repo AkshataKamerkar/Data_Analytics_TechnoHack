{
 "cells": [
  {
   "cell_type": "markdown",
   "id": "c84c3640",
   "metadata": {},
   "source": [
    "# Task 1 - Data Cleaning \n",
    " "
   ]
  },
  {
   "cell_type": "markdown",
   "id": "cc411e1c",
   "metadata": {},
   "source": [
    "### Problem Statement :\n",
    "\n",
    "- Conduct data cleaning procedures on the Titanic dataset to enhance its       quality by addressing missing values and outliers."
   ]
  },
  {
   "cell_type": "markdown",
   "id": "faad32e8",
   "metadata": {},
   "source": [
    "## Solution \n",
    "\n",
    "### Data Cleaning - \n",
    "\n",
    "- Data cleaning is the process of identifying and fixing errors, inconsistencies, and missing values in a dataset to make it       accurate, reliable, and suitable for analysis.\n",
    "    \n",
    "- Common Operations involved in Data Cleaning \n",
    "    * Handling Missing Values\n",
    "    * Removing Duplicates\n",
    "    * Standardizing Data\n",
    "    * Correcting Errors\n",
    "    * Handling Outliers, etc.\n",
    "    \n",
    "    \n",
    "### Various Technologies that can be used to perform Data Cleaning -\n",
    "- Python Libraries [ Pandas, Numpy, etc ] \n",
    "- R Programming    [ Tidyverse, data.table, etc ] \n",
    "- SQL \n",
    "- Excel and Spreadsheets \n",
    "- Apache Spark     [ Particularly useful for large-scale data cleaning tasks ]\n",
    "- Other Platforms  [ Trifacta, Informatica, etc ] \n",
    "\n",
    "\n",
    "\n",
    "\n",
    "* For this task, we are using Pandas for its efficient handling of missing values, its versatile data transformation capabilities, and its extensive range of functions tailored for diverse data cleaning operations. \n",
    "  \n",
    "  "
   ]
  },
  {
   "cell_type": "code",
   "execution_count": 1,
   "id": "d86dc63a",
   "metadata": {},
   "outputs": [],
   "source": [
    "# Importing Pandas Library \n",
    "\n",
    "import pandas as pd "
   ]
  },
  {
   "cell_type": "code",
   "execution_count": 2,
   "id": "f0df0778",
   "metadata": {},
   "outputs": [],
   "source": [
    "# Loading the Titanic DataSet \n",
    "\n",
    "# Since the dataset is in .csv format using Pandas function pd.read_csv() to load the dataset \n",
    "\n",
    "df = pd.read_csv('Titanic.csv')"
   ]
  },
  {
   "cell_type": "code",
   "execution_count": 3,
   "id": "41a35221",
   "metadata": {},
   "outputs": [
    {
     "data": {
      "text/html": [
       "<div>\n",
       "<style scoped>\n",
       "    .dataframe tbody tr th:only-of-type {\n",
       "        vertical-align: middle;\n",
       "    }\n",
       "\n",
       "    .dataframe tbody tr th {\n",
       "        vertical-align: top;\n",
       "    }\n",
       "\n",
       "    .dataframe thead th {\n",
       "        text-align: right;\n",
       "    }\n",
       "</style>\n",
       "<table border=\"1\" class=\"dataframe\">\n",
       "  <thead>\n",
       "    <tr style=\"text-align: right;\">\n",
       "      <th></th>\n",
       "      <th>PassengerId</th>\n",
       "      <th>Survived</th>\n",
       "      <th>Pclass</th>\n",
       "      <th>Name</th>\n",
       "      <th>Sex</th>\n",
       "      <th>Age</th>\n",
       "      <th>SibSp</th>\n",
       "      <th>Parch</th>\n",
       "      <th>Ticket</th>\n",
       "      <th>Fare</th>\n",
       "      <th>Cabin</th>\n",
       "      <th>Embarked</th>\n",
       "    </tr>\n",
       "  </thead>\n",
       "  <tbody>\n",
       "    <tr>\n",
       "      <th>0</th>\n",
       "      <td>1</td>\n",
       "      <td>0</td>\n",
       "      <td>3</td>\n",
       "      <td>Braund, Mr. Owen Harris</td>\n",
       "      <td>male</td>\n",
       "      <td>22.0</td>\n",
       "      <td>1</td>\n",
       "      <td>0</td>\n",
       "      <td>A/5 21171</td>\n",
       "      <td>7.2500</td>\n",
       "      <td>NaN</td>\n",
       "      <td>S</td>\n",
       "    </tr>\n",
       "    <tr>\n",
       "      <th>1</th>\n",
       "      <td>2</td>\n",
       "      <td>1</td>\n",
       "      <td>1</td>\n",
       "      <td>Cumings, Mrs. John Bradley (Florence Briggs Th...</td>\n",
       "      <td>female</td>\n",
       "      <td>38.0</td>\n",
       "      <td>1</td>\n",
       "      <td>0</td>\n",
       "      <td>PC 17599</td>\n",
       "      <td>71.2833</td>\n",
       "      <td>C85</td>\n",
       "      <td>C</td>\n",
       "    </tr>\n",
       "    <tr>\n",
       "      <th>2</th>\n",
       "      <td>3</td>\n",
       "      <td>1</td>\n",
       "      <td>3</td>\n",
       "      <td>Heikkinen, Miss. Laina</td>\n",
       "      <td>female</td>\n",
       "      <td>26.0</td>\n",
       "      <td>0</td>\n",
       "      <td>0</td>\n",
       "      <td>STON/O2. 3101282</td>\n",
       "      <td>7.9250</td>\n",
       "      <td>NaN</td>\n",
       "      <td>S</td>\n",
       "    </tr>\n",
       "    <tr>\n",
       "      <th>3</th>\n",
       "      <td>4</td>\n",
       "      <td>1</td>\n",
       "      <td>1</td>\n",
       "      <td>Futrelle, Mrs. Jacques Heath (Lily May Peel)</td>\n",
       "      <td>female</td>\n",
       "      <td>35.0</td>\n",
       "      <td>1</td>\n",
       "      <td>0</td>\n",
       "      <td>113803</td>\n",
       "      <td>53.1000</td>\n",
       "      <td>C123</td>\n",
       "      <td>S</td>\n",
       "    </tr>\n",
       "    <tr>\n",
       "      <th>4</th>\n",
       "      <td>5</td>\n",
       "      <td>0</td>\n",
       "      <td>3</td>\n",
       "      <td>Allen, Mr. William Henry</td>\n",
       "      <td>male</td>\n",
       "      <td>35.0</td>\n",
       "      <td>0</td>\n",
       "      <td>0</td>\n",
       "      <td>373450</td>\n",
       "      <td>8.0500</td>\n",
       "      <td>NaN</td>\n",
       "      <td>S</td>\n",
       "    </tr>\n",
       "  </tbody>\n",
       "</table>\n",
       "</div>"
      ],
      "text/plain": [
       "   PassengerId  Survived  Pclass  \\\n",
       "0            1         0       3   \n",
       "1            2         1       1   \n",
       "2            3         1       3   \n",
       "3            4         1       1   \n",
       "4            5         0       3   \n",
       "\n",
       "                                                Name     Sex   Age  SibSp  \\\n",
       "0                            Braund, Mr. Owen Harris    male  22.0      1   \n",
       "1  Cumings, Mrs. John Bradley (Florence Briggs Th...  female  38.0      1   \n",
       "2                             Heikkinen, Miss. Laina  female  26.0      0   \n",
       "3       Futrelle, Mrs. Jacques Heath (Lily May Peel)  female  35.0      1   \n",
       "4                           Allen, Mr. William Henry    male  35.0      0   \n",
       "\n",
       "   Parch            Ticket     Fare Cabin Embarked  \n",
       "0      0         A/5 21171   7.2500   NaN        S  \n",
       "1      0          PC 17599  71.2833   C85        C  \n",
       "2      0  STON/O2. 3101282   7.9250   NaN        S  \n",
       "3      0            113803  53.1000  C123        S  \n",
       "4      0            373450   8.0500   NaN        S  "
      ]
     },
     "execution_count": 3,
     "metadata": {},
     "output_type": "execute_result"
    }
   ],
   "source": [
    "# Displaying the first few rows of the Titanic DataFrame \n",
    "\n",
    "df.head()"
   ]
  },
  {
   "cell_type": "code",
   "execution_count": 4,
   "id": "42306276",
   "metadata": {},
   "outputs": [
    {
     "data": {
      "text/plain": [
       "(891, 12)"
      ]
     },
     "execution_count": 4,
     "metadata": {},
     "output_type": "execute_result"
    }
   ],
   "source": [
    "# Getting the shape (rows,cols) of the DataFrame\n",
    "\n",
    "df.shape"
   ]
  },
  {
   "cell_type": "code",
   "execution_count": 5,
   "id": "42a8651c",
   "metadata": {},
   "outputs": [
    {
     "data": {
      "text/plain": [
       "PassengerId      0\n",
       "Survived         0\n",
       "Pclass           0\n",
       "Name             0\n",
       "Sex              0\n",
       "Age            177\n",
       "SibSp            0\n",
       "Parch            0\n",
       "Ticket           0\n",
       "Fare             0\n",
       "Cabin          687\n",
       "Embarked         2\n",
       "dtype: int64"
      ]
     },
     "execution_count": 5,
     "metadata": {},
     "output_type": "execute_result"
    }
   ],
   "source": [
    "# Identifying the Missing Values and calculating their sum  \n",
    "\n",
    "df.isnull().sum()"
   ]
  },
  {
   "cell_type": "markdown",
   "id": "8a528dfa",
   "metadata": {},
   "source": [
    "From above we can see that, three columns have missing values \n",
    "- Age       : 177 Missing Vals\n",
    "- Cabin     : 687 Missing Vals\n",
    "- Embarked  : 2 Missing Vals "
   ]
  },
  {
   "cell_type": "code",
   "execution_count": 6,
   "id": "4d08a20f",
   "metadata": {},
   "outputs": [
    {
     "data": {
      "text/plain": [
       "Age         float64\n",
       "Cabin        object\n",
       "Embarked     object\n",
       "dtype: object"
      ]
     },
     "execution_count": 6,
     "metadata": {},
     "output_type": "execute_result"
    }
   ],
   "source": [
    "# Getting the DataTypes of the Missing Values Columns \n",
    "\n",
    "df[['Age','Cabin','Embarked']].dtypes"
   ]
  },
  {
   "cell_type": "code",
   "execution_count": 7,
   "id": "49050a7b",
   "metadata": {},
   "outputs": [
    {
     "name": "stdout",
     "output_type": "stream",
     "text": [
      "<class 'pandas.core.frame.DataFrame'>\n",
      "RangeIndex: 891 entries, 0 to 890\n",
      "Data columns (total 12 columns):\n",
      " #   Column       Non-Null Count  Dtype  \n",
      "---  ------       --------------  -----  \n",
      " 0   PassengerId  891 non-null    int64  \n",
      " 1   Survived     891 non-null    int64  \n",
      " 2   Pclass       891 non-null    int64  \n",
      " 3   Name         891 non-null    object \n",
      " 4   Sex          891 non-null    object \n",
      " 5   Age          714 non-null    float64\n",
      " 6   SibSp        891 non-null    int64  \n",
      " 7   Parch        891 non-null    int64  \n",
      " 8   Ticket       891 non-null    object \n",
      " 9   Fare         891 non-null    float64\n",
      " 10  Cabin        204 non-null    object \n",
      " 11  Embarked     889 non-null    object \n",
      "dtypes: float64(2), int64(5), object(5)\n",
      "memory usage: 83.7+ KB\n"
     ]
    }
   ],
   "source": [
    "# ShortMethod to Identify the Missing Vals and get their dataTypes\n",
    "\n",
    "df.info()"
   ]
  },
  {
   "cell_type": "markdown",
   "id": "acc40d69",
   "metadata": {},
   "source": [
    "Upon observing the above output, we can conclude that - \n",
    "\n",
    "* 'Age' column has a significant number (177) of missing values, impacting     its completeness for analysis.\n",
    "* 'Cabin' column is highly incomplete, with a vast majority (687 out of 891)   of missing values, limiting its utility in analysis unless handled appropriately.\n",
    "* 'Embarked' column has a minor number (2) of missing values, which might not   significantly affect its usability for analysis purposes."
   ]
  },
  {
   "cell_type": "markdown",
   "id": "87c1c20c",
   "metadata": {},
   "source": []
  },
  {
   "cell_type": "markdown",
   "id": "ed46a8a2",
   "metadata": {},
   "source": [
    "## Handling Missing Values \n"
   ]
  },
  {
   "cell_type": "markdown",
   "id": "8f93cce4",
   "metadata": {},
   "source": [
    "- Handling missing values involves dealing with instances in a dataset where information or data points are absent or not         recorded.\n",
    "  \n",
    "  Common Methods for Handling Missing Values are : \n",
    "  1. Drop the Missing Values:\n",
    "       - Approach: This method involves removing rows or columns that contain missing values.\n",
    "       - Usage: dropna() function in pandas or similar functions in other libraries.\n",
    "       - Action: Drops entire rows or columns that contain any missing values (NaN/null) based on the specified axis.\n",
    "       - Pros: Helps maintain data integrity by removing incomplete records.\n",
    "       - Cons: Reduces dataset size, potentially leading to loss of information if missing values are not random.\n",
    "      \n",
    "   2. Imputation using fillna() Function:\n",
    "        - Approach: Imputation involves filling missing values with substitutes, such as mean, median, mode, constant value, or                     using more advanced methods like interpolation.\n",
    "        - Usage: fillna() function in pandas or equivalent methods in other libraries.\n",
    "        - Action : Based on the nature of data, missing values can be replaced by the following :- \n",
    "            1. Mean   - Suitable for continuous numerical data when there are no outliers affecting the average. However, it's                           sensitive to extreme values.\n",
    "            2. Median - Less affected by outliers, making it suitable for managing skewed or outlier-prone data.\n",
    "            3. Mode   - Ideal for categorical or nominal data. It's the most frequently occurring value.\n",
    "        - Pros: Retains data structure and size, preserving information for analysis.\n",
    "        - Cons: Imputed values might introduce bias or distort the original data distribution if not carefully chosen.                  \n",
    "   Numerous alternative techniques exist to manage missing values, such as Regression Imputation, K-Nearest Neighbors Imputation, and several others.         "
   ]
  },
  {
   "cell_type": "code",
   "execution_count": null,
   "id": "1a133860",
   "metadata": {},
   "outputs": [],
   "source": []
  },
  {
   "cell_type": "markdown",
   "id": "ba0c4eef",
   "metadata": {},
   "source": [
    "#### Now let's Handle the Missing Values present in the three columns of our Titanic DataSet\n",
    "- We will be using Imputation Method to handle the missing values\n"
   ]
  },
  {
   "cell_type": "code",
   "execution_count": null,
   "id": "decc34c4",
   "metadata": {},
   "outputs": [],
   "source": [
    "### Age Column \n",
    "\n",
    "''' Since Age column is of Float dataType, we can substitute the missing values with Mean or Median \n",
    "    depending upon the presence of outliers\n",
    "'''\n",
    "\n",
    "The simplest way to check the presence of outliers is by visualizing the data using histogram\n",
    "\n",
    "'''\n",
    "    For creating a histogram we need to import Matplotlib \n",
    "'''\n"
   ]
  },
  {
   "cell_type": "code",
   "execution_count": 3,
   "id": "edfe8244",
   "metadata": {},
   "outputs": [
    {
     "data": {
      "text/plain": [
       "(array([ 54.,  46., 177., 169., 118.,  70.,  45.,  24.,   9.,   2.]),\n",
       " array([ 0.42 ,  8.378, 16.336, 24.294, 32.252, 40.21 , 48.168, 56.126,\n",
       "        64.084, 72.042, 80.   ]),\n",
       " <BarContainer object of 10 artists>)"
      ]
     },
     "execution_count": 3,
     "metadata": {},
     "output_type": "execute_result"
    },
    {
     "data": {
      "image/png": "[encoded data removed]",
      "text/plain": [
       "<Figure size 640x480 with 1 Axes>"
      ]
     },
     "metadata": {},
     "output_type": "display_data"
    }
   ],
   "source": [
    "import matplotlib.pyplot as plt \n",
    "%matplotlib inline \n",
    "\n",
    "# Creating a histogram of Age col \n",
    "plt.hist(df['Age'])"
   ]
  },
  {
   "cell_type": "markdown",
   "id": "033ef0a6",
   "metadata": {},
   "source": [
    "- Outliers are the data points that significantly differ from other observations in a dataset. Based on the histogram, it appears that there are no data points in the Age column that significantly differ from the rest, suggesting the absence of outliers.\n",
    "\n",
    "So we can use Mean value of the Age col for Imputation Operation "
   ]
  },
  {
   "cell_type": "code",
   "execution_count": 4,
   "id": "1245032c",
   "metadata": {},
   "outputs": [],
   "source": [
    "# Getting the Mean of the Age col \n",
    "mean_age = df['Age'].mean()\n",
    "\n",
    "# Using fillna() function for Imputation \n",
    "df['Age'].fillna(mean_age,inplace=True)\n",
    "\n",
    "'''\n",
    "    'inplace=True' modifies the DataFrame directly without creating a new copy, applying changes within the \n",
    "     same DataFrame.\n",
    "'''"
   ]
  },
  {
   "cell_type": "code",
   "execution_count": 5,
   "id": "08b6a7bb",
   "metadata": {},
   "outputs": [
    {
     "data": {
      "text/plain": [
       "0"
      ]
     },
     "execution_count": 5,
     "metadata": {},
     "output_type": "execute_result"
    }
   ],
   "source": [
    "# Again calculating the count of missing values in Age col \n",
    "\n",
    "df['Age'].isna().sum()"
   ]
  },
  {
   "cell_type": "markdown",
   "id": "243af684",
   "metadata": {},
   "source": [
    "Missing_val_count = 0 indicates that we have successfully dealed with all the missing values that were present in Age col  "
   ]
  },
  {
   "cell_type": "markdown",
   "id": "c4048cf1",
   "metadata": {},
   "source": [
    "Similarly, we can handle missing values of Embraked and Cabin col \n",
    "\n",
    "Since, both Embraked and Cabin col are of Object dataType, we can use Mode of the respective columns for Imputation"
   ]
  },
  {
   "cell_type": "code",
   "execution_count": 10,
   "id": "284603a9",
   "metadata": {},
   "outputs": [],
   "source": [
    "# Embraked Column \n",
    "\n",
    "# Getting the mode \n",
    "embarked_mode_val = df['Embarked'].mode()\n",
    "\n",
    "# Using fillna() function \n",
    "df['Embarked'].fillna(embarked_mode_val[0],inplace=True)"
   ]
  },
  {
   "cell_type": "code",
   "execution_count": 11,
   "id": "309cf6e6",
   "metadata": {},
   "outputs": [
    {
     "data": {
      "text/plain": [
       "0"
      ]
     },
     "execution_count": 11,
     "metadata": {},
     "output_type": "execute_result"
    }
   ],
   "source": [
    "# Calculating the count of missing values in Embraked col \n",
    "\n",
    "df['Embarked'].isna().sum()"
   ]
  },
  {
   "cell_type": "code",
   "execution_count": 14,
   "id": "add6004c",
   "metadata": {},
   "outputs": [
    {
     "data": {
      "text/plain": [
       "0        B96 B98\n",
       "1    C23 C25 C27\n",
       "2             G6\n",
       "Name: Cabin, dtype: object"
      ]
     },
     "execution_count": 14,
     "metadata": {},
     "output_type": "execute_result"
    }
   ],
   "source": [
    "# Cabin Column \n",
    "\n",
    "# Getting the mode \n",
    "cabin_mode_list = df['Cabin'].mode()\n",
    "\n",
    "cabin_mode_list"
   ]
  },
  {
   "cell_type": "markdown",
   "id": "fefcc4fa",
   "metadata": {},
   "source": [
    "mode() function in pandas returns Multiple mode values."
   ]
  },
  {
   "cell_type": "code",
   "execution_count": 19,
   "id": "6cf1f98b",
   "metadata": {},
   "outputs": [
    {
     "data": {
      "text/plain": [
       "'B96 B98'"
      ]
     },
     "execution_count": 19,
     "metadata": {},
     "output_type": "execute_result"
    }
   ],
   "source": [
    "# Accessing the first mode \n",
    "cabin_mode_val = cabin_mode_list[0]\n",
    "\n",
    "cabin_mode_val"
   ]
  },
  {
   "cell_type": "markdown",
   "id": "51ddf618",
   "metadata": {},
   "source": [
    "The above output indicates that, both 'B96' and 'B98' have same frequency i.e. they both are possible modes of the Cabin column"
   ]
  },
  {
   "cell_type": "code",
   "execution_count": 21,
   "id": "0bdcd97c",
   "metadata": {},
   "outputs": [
    {
     "data": {
      "text/plain": [
       "Cabin\n",
       "B96 B98        4\n",
       "G6             4\n",
       "C23 C25 C27    4\n",
       "C22 C26        3\n",
       "F33            3\n",
       "              ..\n",
       "E34            1\n",
       "C7             1\n",
       "C54            1\n",
       "E36            1\n",
       "C148           1\n",
       "Name: count, Length: 147, dtype: int64"
      ]
     },
     "execution_count": 21,
     "metadata": {},
     "output_type": "execute_result"
    }
   ],
   "source": [
    "# Getting the total count of all the unique values that are present in \n",
    "# Cabin column\n",
    "\n",
    "df['Cabin'].value_counts()"
   ]
  },
  {
   "cell_type": "markdown",
   "id": "a6f9f4bf",
   "metadata": {},
   "source": [
    "From the above output, it is clear that their are multiple modes for Cabin colum.\n",
    "So we can use any of the possible mode value for Imputation "
   ]
  },
  {
   "cell_type": "code",
   "execution_count": 22,
   "id": "6890a95a",
   "metadata": {},
   "outputs": [],
   "source": [
    "# Handling the missing vals of Cabin col \n",
    "\n",
    "df['Cabin'].fillna('B96',inplace=True)"
   ]
  },
  {
   "cell_type": "code",
   "execution_count": 23,
   "id": "cce903e0",
   "metadata": {},
   "outputs": [
    {
     "data": {
      "text/plain": [
       "0"
      ]
     },
     "execution_count": 23,
     "metadata": {},
     "output_type": "execute_result"
    }
   ],
   "source": [
    "# Getting the total count of missing val\n",
    "\n",
    "df['Cabin'].isna().sum()"
   ]
  },
  {
   "cell_type": "code",
   "execution_count": 24,
   "id": "cce0a3b3",
   "metadata": {},
   "outputs": [
    {
     "data": {
      "text/plain": [
       "PassengerId    0\n",
       "Survived       0\n",
       "Pclass         0\n",
       "Name           0\n",
       "Sex            0\n",
       "Age            0\n",
       "SibSp          0\n",
       "Parch          0\n",
       "Ticket         0\n",
       "Fare           0\n",
       "Cabin          0\n",
       "Embarked       0\n",
       "dtype: int64"
      ]
     },
     "execution_count": 24,
     "metadata": {},
     "output_type": "execute_result"
    }
   ],
   "source": [
    "# Getting the overall missing val count \n",
    "\n",
    "df.isna().sum()"
   ]
  },
  {
   "cell_type": "markdown",
   "id": "bdca4561",
   "metadata": {},
   "source": [
    "Therefore, we have successfully handled all the missing values "
   ]
  }
 ],
 "metadata": {
  "kernelspec": {
   "display_name": "Python 3 (ipykernel)",
   "language": "python",
   "name": "python3"
  },
  "language_info": {
   "codemirror_mode": {
    "name": "ipython",
    "version": 3
   },
   "file_extension": ".py",
   "mimetype": "text/x-python",
   "name": "python",
   "nbconvert_exporter": "python",
   "pygments_lexer": "ipython3",
   "version": "3.11.5"
  }
 },
 "nbformat": 4,
 "nbformat_minor": 5
}
