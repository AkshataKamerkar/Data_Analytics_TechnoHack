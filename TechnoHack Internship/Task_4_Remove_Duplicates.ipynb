{
 "cells": [
  {
   "cell_type": "markdown",
   "id": "c84c3640",
   "metadata": {},
   "source": [
    "# Task 4 -  Remove Duplication\n",
    "                                                                        "
   ]
  },
  {
   "cell_type": "markdown",
   "id": "cc411e1c",
   "metadata": {},
   "source": [
    "### Problem Statement :\n",
    "\n",
    "- Identify and remove duplicate values in a dataset."
   ]
  },
  {
   "cell_type": "markdown",
   "id": "faad32e8",
   "metadata": {},
   "source": [
    "## Solution \n",
    "\n",
    "        \n",
    "    \n",
    "### Why should we remove duplicate values from a dataset ? \n",
    "\n",
    "  \n",
    "Removing duplicate values from a dataset is essential for several reasons:\n",
    "\n",
    "* **Data Accuracy :** Duplicate values can introduce inaccuracies in analysis by skewing statistical measures and metrics. For instance, mean, median, and standard deviation can be affected, leading to misinterpretation of data.\n",
    "\n",
    "* **Computational Efficiency :** Duplicate values contribute unnecessary computational overhead when performing analyses or running machine learning algorithms. Removing duplicates can improve processing speed and efficiency.\n",
    "\n",
    "* **Model Performance :** In machine learning, duplicate data points can mislead models, causing them to overfit to specific patterns or biases present in the duplicates. Removing duplicates helps in training models on diverse and representative data.\n",
    "\n",
    "* **Data Consistency :** Duplicate values can lead to inconsistencies and errors in reporting. It is crucial for maintaining data integrity and ensuring that analyses and visualizations accurately reflect the underlying patterns in the dataset.\n",
    "\n",
    "* **Storage Optimization :** In large datasets, removing duplicates can save storage space, particularly in situations where storage resources are limited or expensive.\n",
    "\n",
    "* **Enhanced Data Understanding :** Working with a dataset free from duplicates simplifies data exploration and interpretation, providing a clearer picture of the unique patterns and trends within the data.\n",
    "\n",
    "\n",
    "\n",
    "### Various Techniques used for Handling Duplicate Data  \n",
    "\n",
    "Handling duplicate data involves strategies to either eliminate or manage the duplicate values. \n",
    "\n",
    "**1. Removing Duplicates :**\n",
    "   * Dropping Duplicates : Use Pandas' drop_duplicates() method to remove entire rows that are duplicates.\n",
    "        ``` df_no_duplicates = df.drop_duplicates() ```\n",
    "        \n",
    "\n",
    "**2. Aggregating Duplicates :**\n",
    "   * Aggregation Functions : If duplicates need to be summarized, use aggregation functions (e.g., sum, mean) to combine duplicate values.\n",
    "        ``` df_aggregated = df.groupby('column_name').agg({'numeric_column': 'sum', 'another_column': 'mean'}) ```\n",
    "        \n",
    "\n",
    "**3. Keeping First or Last Occurrence :**\n",
    "   * Keeping First Occurrence : Use keep='first' in drop_duplicates() to keep the first occurrence and remove subsequent duplicates.\n",
    "   * Keeping Last Occurrence : Use keep='last' to keep the last occurrence.\n",
    "        ``` df_first_occurrence = df.drop_duplicates(keep='first') ```\n",
    "        ``` df_last_occurrence = df.drop_duplicates(keep='last') ```\n",
    "        \n",
    "\n",
    "**4. Marking Duplicates :**\n",
    "   * Creating a Duplicate Flag : Add a new column indicating whether a row is a duplicate or not.\n",
    "        ``` df['is_duplicate'] = df.duplicated() ```\n",
    "        \n",
    "\n",
    "**5. Handling Duplicates Based on Specific Columns :**\n",
    "   * Subset of Columns : Check for duplicates based on a subset of columns.\n",
    "        ``` df_no_duplicates_subset = df.drop_duplicates(subset=['column1', 'column2']) ```\n",
    " \n",
    "\n",
    "\n",
    "\n",
    "\n",
    "\n"
   ]
  },
  {
   "cell_type": "markdown",
   "id": "9f89b6c6",
   "metadata": {},
   "source": [
    "### Importing Required Libraries  "
   ]
  },
  {
   "cell_type": "code",
   "execution_count": 1,
   "id": "d86dc63a",
   "metadata": {},
   "outputs": [],
   "source": [
    "import pandas as pd \n",
    "import numpy as np \n",
    "\n",
    "import warnings\n",
    "warnings.filterwarnings('ignore')"
   ]
  },
  {
   "cell_type": "markdown",
   "id": "0d5f04b1",
   "metadata": {},
   "source": [
    "### Understanding the Dataset "
   ]
  },
  {
   "cell_type": "markdown",
   "id": "8775fa52",
   "metadata": {},
   "source": [
    "* The Iris dataset consists of four independent features representing various measurements related to the morphology of iris flowers, namely sepal length, sepal width, petal length, and petal width. The dataset is structured as a classification problem, where the goal is to predict the class or species of an iris flower based on these four feature values."
   ]
  },
  {
   "cell_type": "code",
   "execution_count": 2,
   "id": "f0df0778",
   "metadata": {},
   "outputs": [],
   "source": [
    "# Loading the Iris DataSet \n",
    "\n",
    "# Since the dataset is in .csv format using Pandas function pd.read_csv() to load the dataset \n",
    "\n",
    "df = pd.read_csv('Iris.csv')"
   ]
  },
  {
   "cell_type": "code",
   "execution_count": 3,
   "id": "41a35221",
   "metadata": {},
   "outputs": [
    {
     "data": {
      "text/html": [
       "<div>\n",
       "<style scoped>\n",
       "    .dataframe tbody tr th:only-of-type {\n",
       "        vertical-align: middle;\n",
       "    }\n",
       "\n",
       "    .dataframe tbody tr th {\n",
       "        vertical-align: top;\n",
       "    }\n",
       "\n",
       "    .dataframe thead th {\n",
       "        text-align: right;\n",
       "    }\n",
       "</style>\n",
       "<table border=\"1\" class=\"dataframe\">\n",
       "  <thead>\n",
       "    <tr style=\"text-align: right;\">\n",
       "      <th></th>\n",
       "      <th>Id</th>\n",
       "      <th>SepalLengthCm</th>\n",
       "      <th>SepalWidthCm</th>\n",
       "      <th>PetalLengthCm</th>\n",
       "      <th>PetalWidthCm</th>\n",
       "      <th>Species</th>\n",
       "    </tr>\n",
       "  </thead>\n",
       "  <tbody>\n",
       "    <tr>\n",
       "      <th>0</th>\n",
       "      <td>1</td>\n",
       "      <td>5.1</td>\n",
       "      <td>3.5</td>\n",
       "      <td>1.4</td>\n",
       "      <td>0.2</td>\n",
       "      <td>Iris-setosa</td>\n",
       "    </tr>\n",
       "    <tr>\n",
       "      <th>1</th>\n",
       "      <td>2</td>\n",
       "      <td>4.9</td>\n",
       "      <td>3.0</td>\n",
       "      <td>1.4</td>\n",
       "      <td>0.2</td>\n",
       "      <td>Iris-setosa</td>\n",
       "    </tr>\n",
       "    <tr>\n",
       "      <th>2</th>\n",
       "      <td>3</td>\n",
       "      <td>4.7</td>\n",
       "      <td>3.2</td>\n",
       "      <td>1.3</td>\n",
       "      <td>0.2</td>\n",
       "      <td>Iris-setosa</td>\n",
       "    </tr>\n",
       "    <tr>\n",
       "      <th>3</th>\n",
       "      <td>4</td>\n",
       "      <td>4.6</td>\n",
       "      <td>3.1</td>\n",
       "      <td>1.5</td>\n",
       "      <td>0.2</td>\n",
       "      <td>Iris-setosa</td>\n",
       "    </tr>\n",
       "    <tr>\n",
       "      <th>4</th>\n",
       "      <td>5</td>\n",
       "      <td>5.0</td>\n",
       "      <td>3.6</td>\n",
       "      <td>1.4</td>\n",
       "      <td>0.2</td>\n",
       "      <td>Iris-setosa</td>\n",
       "    </tr>\n",
       "  </tbody>\n",
       "</table>\n",
       "</div>"
      ],
      "text/plain": [
       "   Id  SepalLengthCm  SepalWidthCm  PetalLengthCm  PetalWidthCm      Species\n",
       "0   1            5.1           3.5            1.4           0.2  Iris-setosa\n",
       "1   2            4.9           3.0            1.4           0.2  Iris-setosa\n",
       "2   3            4.7           3.2            1.3           0.2  Iris-setosa\n",
       "3   4            4.6           3.1            1.5           0.2  Iris-setosa\n",
       "4   5            5.0           3.6            1.4           0.2  Iris-setosa"
      ]
     },
     "execution_count": 3,
     "metadata": {},
     "output_type": "execute_result"
    }
   ],
   "source": [
    "# Displaying the first few rows of the Iris DataFrame \n",
    "\n",
    "df.head()"
   ]
  },
  {
   "cell_type": "code",
   "execution_count": 4,
   "id": "42306276",
   "metadata": {},
   "outputs": [
    {
     "data": {
      "text/plain": [
       "(150, 6)"
      ]
     },
     "execution_count": 4,
     "metadata": {},
     "output_type": "execute_result"
    }
   ],
   "source": [
    "# Getting the shape (rows,cols) of the DataFrame\n",
    "\n",
    "df.shape"
   ]
  },
  {
   "cell_type": "code",
   "execution_count": 5,
   "id": "820e3863",
   "metadata": {},
   "outputs": [
    {
     "data": {
      "text/plain": [
       "Id                 int64\n",
       "SepalLengthCm    float64\n",
       "SepalWidthCm     float64\n",
       "PetalLengthCm    float64\n",
       "PetalWidthCm     float64\n",
       "Species           object\n",
       "dtype: object"
      ]
     },
     "execution_count": 5,
     "metadata": {},
     "output_type": "execute_result"
    }
   ],
   "source": [
    "# Getting the dataType of all the columns \n",
    "\n",
    "df.dtypes"
   ]
  },
  {
   "cell_type": "markdown",
   "id": "33784795",
   "metadata": {},
   "source": [
    "### Identifying the Duplicate Values  "
   ]
  },
  {
   "cell_type": "code",
   "execution_count": 6,
   "id": "1a133860",
   "metadata": {},
   "outputs": [
    {
     "name": "stdout",
     "output_type": "stream",
     "text": [
      "Duplicate Rows:\n",
      "Empty DataFrame\n",
      "Columns: [Id, SepalLengthCm, SepalWidthCm, PetalLengthCm, PetalWidthCm, Species]\n",
      "Index: []\n"
     ]
    }
   ],
   "source": [
    "# Identify duplicate rows\n",
    "duplicate_rows = df.duplicated()\n",
    "\n",
    "# Display duplicate rows\n",
    "duplicate_df = df[duplicate_rows]\n",
    "print(\"Duplicate Rows:\")\n",
    "print(duplicate_df)"
   ]
  },
  {
   "cell_type": "markdown",
   "id": "572ad47d",
   "metadata": {},
   "source": [
    "* The output indicates an \"Empty DataFrame\" when checking for duplicate rows, it means that no duplicates were found in the dataset"
   ]
  },
  {
   "cell_type": "markdown",
   "id": "b2f83d99",
   "metadata": {},
   "source": [
    "### Creating a DataFrame with Duplicate Values \n"
   ]
  },
  {
   "cell_type": "code",
   "execution_count": 7,
   "id": "9f3a0fd1",
   "metadata": {},
   "outputs": [
    {
     "data": {
      "text/html": [
       "<div>\n",
       "<style scoped>\n",
       "    .dataframe tbody tr th:only-of-type {\n",
       "        vertical-align: middle;\n",
       "    }\n",
       "\n",
       "    .dataframe tbody tr th {\n",
       "        vertical-align: top;\n",
       "    }\n",
       "\n",
       "    .dataframe thead th {\n",
       "        text-align: right;\n",
       "    }\n",
       "</style>\n",
       "<table border=\"1\" class=\"dataframe\">\n",
       "  <thead>\n",
       "    <tr style=\"text-align: right;\">\n",
       "      <th></th>\n",
       "      <th>Name</th>\n",
       "      <th>Age</th>\n",
       "      <th>City</th>\n",
       "    </tr>\n",
       "  </thead>\n",
       "  <tbody>\n",
       "    <tr>\n",
       "      <th>0</th>\n",
       "      <td>Ram</td>\n",
       "      <td>25</td>\n",
       "      <td>NY</td>\n",
       "    </tr>\n",
       "    <tr>\n",
       "      <th>1</th>\n",
       "      <td>Sam</td>\n",
       "      <td>30</td>\n",
       "      <td>Jaipur</td>\n",
       "    </tr>\n",
       "    <tr>\n",
       "      <th>2</th>\n",
       "      <td>Cam</td>\n",
       "      <td>22</td>\n",
       "      <td>Mumbai</td>\n",
       "    </tr>\n",
       "    <tr>\n",
       "      <th>3</th>\n",
       "      <td>Ram</td>\n",
       "      <td>25</td>\n",
       "      <td>NY</td>\n",
       "    </tr>\n",
       "    <tr>\n",
       "      <th>4</th>\n",
       "      <td>Zam</td>\n",
       "      <td>35</td>\n",
       "      <td>Kashmir</td>\n",
       "    </tr>\n",
       "    <tr>\n",
       "      <th>5</th>\n",
       "      <td>Cam</td>\n",
       "      <td>22</td>\n",
       "      <td>Mumbai</td>\n",
       "    </tr>\n",
       "  </tbody>\n",
       "</table>\n",
       "</div>"
      ],
      "text/plain": [
       "  Name  Age     City\n",
       "0  Ram   25       NY\n",
       "1  Sam   30   Jaipur\n",
       "2  Cam   22   Mumbai\n",
       "3  Ram   25       NY\n",
       "4  Zam   35  Kashmir\n",
       "5  Cam   22   Mumbai"
      ]
     },
     "execution_count": 7,
     "metadata": {},
     "output_type": "execute_result"
    }
   ],
   "source": [
    "import pandas as pd\n",
    "\n",
    "# Creating a DataFrame with duplicate values\n",
    "data = {\n",
    "    'Name': ['Ram', 'Sam', 'Cam', 'Ram', 'Zam', 'Cam'],\n",
    "    'Age': [25, 30, 22, 25, 35, 22],\n",
    "    'City': ['NY', 'Jaipur', 'Mumbai', 'NY', 'Kashmir', 'Mumbai']\n",
    "}\n",
    "\n",
    "dupli_df = pd.DataFrame(data)\n",
    "\n",
    "# Displaying the DataFrame\n",
    "dupli_df\n"
   ]
  },
  {
   "cell_type": "code",
   "execution_count": 8,
   "id": "ed9249df",
   "metadata": {
    "scrolled": true
   },
   "outputs": [
    {
     "data": {
      "text/plain": [
       "(6, 3)"
      ]
     },
     "execution_count": 8,
     "metadata": {},
     "output_type": "execute_result"
    }
   ],
   "source": [
    "# Getting the shape (rows,cols) of the DataFrame\n",
    "\n",
    "dupli_df.shape"
   ]
  },
  {
   "cell_type": "code",
   "execution_count": 9,
   "id": "4fa8f612",
   "metadata": {},
   "outputs": [
    {
     "data": {
      "text/plain": [
       "Name    object\n",
       "Age      int64\n",
       "City    object\n",
       "dtype: object"
      ]
     },
     "execution_count": 9,
     "metadata": {},
     "output_type": "execute_result"
    }
   ],
   "source": [
    "# Getting the dataType of all the columns \n",
    "\n",
    "dupli_df.dtypes"
   ]
  },
  {
   "cell_type": "code",
   "execution_count": 10,
   "id": "008f4b35",
   "metadata": {},
   "outputs": [
    {
     "name": "stdout",
     "output_type": "stream",
     "text": [
      "Duplicate Rows:\n",
      "  Name  Age    City\n",
      "3  Ram   25      NY\n",
      "5  Cam   22  Mumbai\n"
     ]
    }
   ],
   "source": [
    "# Identify duplicate rows\n",
    "duplicate_rows_cn = dupli_df.duplicated()\n",
    "\n",
    "# Display duplicate rows\n",
    "duplicate_df = dupli_df[duplicate_rows_cn]\n",
    "print(\"Duplicate Rows:\")\n",
    "print(duplicate_df)"
   ]
  },
  {
   "cell_type": "markdown",
   "id": "43e8b77c",
   "metadata": {},
   "source": [
    "* The above dummy dataset contains two duplicate values "
   ]
  },
  {
   "cell_type": "markdown",
   "id": "6db66639",
   "metadata": {},
   "source": [
    "### Handling the Duplicate Values "
   ]
  },
  {
   "cell_type": "code",
   "execution_count": 11,
   "id": "bb3f3df0",
   "metadata": {},
   "outputs": [
    {
     "data": {
      "text/html": [
       "<div>\n",
       "<style scoped>\n",
       "    .dataframe tbody tr th:only-of-type {\n",
       "        vertical-align: middle;\n",
       "    }\n",
       "\n",
       "    .dataframe tbody tr th {\n",
       "        vertical-align: top;\n",
       "    }\n",
       "\n",
       "    .dataframe thead th {\n",
       "        text-align: right;\n",
       "    }\n",
       "</style>\n",
       "<table border=\"1\" class=\"dataframe\">\n",
       "  <thead>\n",
       "    <tr style=\"text-align: right;\">\n",
       "      <th></th>\n",
       "      <th>Name</th>\n",
       "      <th>Age</th>\n",
       "      <th>City</th>\n",
       "    </tr>\n",
       "  </thead>\n",
       "  <tbody>\n",
       "    <tr>\n",
       "      <th>0</th>\n",
       "      <td>Ram</td>\n",
       "      <td>25</td>\n",
       "      <td>NY</td>\n",
       "    </tr>\n",
       "    <tr>\n",
       "      <th>1</th>\n",
       "      <td>Sam</td>\n",
       "      <td>30</td>\n",
       "      <td>Jaipur</td>\n",
       "    </tr>\n",
       "    <tr>\n",
       "      <th>2</th>\n",
       "      <td>Cam</td>\n",
       "      <td>22</td>\n",
       "      <td>Mumbai</td>\n",
       "    </tr>\n",
       "    <tr>\n",
       "      <th>4</th>\n",
       "      <td>Zam</td>\n",
       "      <td>35</td>\n",
       "      <td>Kashmir</td>\n",
       "    </tr>\n",
       "  </tbody>\n",
       "</table>\n",
       "</div>"
      ],
      "text/plain": [
       "  Name  Age     City\n",
       "0  Ram   25       NY\n",
       "1  Sam   30   Jaipur\n",
       "2  Cam   22   Mumbai\n",
       "4  Zam   35  Kashmir"
      ]
     },
     "execution_count": 11,
     "metadata": {},
     "output_type": "execute_result"
    }
   ],
   "source": [
    "# Remove duplicate rows\n",
    "no_dupli_df = dupli_df.drop_duplicates()\n",
    "\n",
    "no_dupli_df"
   ]
  },
  {
   "cell_type": "code",
   "execution_count": 12,
   "id": "361af6d5",
   "metadata": {},
   "outputs": [
    {
     "name": "stdout",
     "output_type": "stream",
     "text": [
      "Duplicate Rows:\n",
      "Empty DataFrame\n",
      "Columns: [Name, Age, City]\n",
      "Index: []\n"
     ]
    }
   ],
   "source": [
    "# Again checking the same modified DataFrame for duplicates \n",
    "\n",
    "# Identify duplicate rows\n",
    "duplicate_rows_nd = no_dupli_df.duplicated()\n",
    "\n",
    "# Display duplicate rows\n",
    "no_duplicate_df = no_dupli_df[duplicate_rows_cn]\n",
    "print(\"Duplicate Rows:\")\n",
    "print(no_duplicate_df)"
   ]
  },
  {
   "cell_type": "markdown",
   "id": "83e621fb",
   "metadata": {},
   "source": [
    "* Removing duplicate values is just one way to deal with repeated entries; there are other methods available as well."
   ]
  },
  {
   "cell_type": "markdown",
   "id": "6222ebfa",
   "metadata": {},
   "source": [
    "Therefore, we have successfully identified and handled the duplicate values from a dummy DataFrame"
   ]
  }
 ],
 "metadata": {
  "kernelspec": {
   "display_name": "Python 3 (ipykernel)",
   "language": "python",
   "name": "python3"
  },
  "language_info": {
   "codemirror_mode": {
    "name": "ipython",
    "version": 3
   },
   "file_extension": ".py",
   "mimetype": "text/x-python",
   "name": "python",
   "nbconvert_exporter": "python",
   "pygments_lexer": "ipython3",
   "version": "3.11.5"
  }
 },
 "nbformat": 4,
 "nbformat_minor": 5
}
